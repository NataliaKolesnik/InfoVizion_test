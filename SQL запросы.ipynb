{
 "cells": [
  {
   "cell_type": "code",
   "execution_count": 1,
   "id": "20bfa62c",
   "metadata": {},
   "outputs": [],
   "source": [
    "import psycopg2\n",
    "import pandas as pd\n",
    "import datetime\n",
    "from psycopg2 import OperationalError\n",
    "import openpyxl "
   ]
  },
  {
   "cell_type": "code",
   "execution_count": 2,
   "id": "de8be863",
   "metadata": {},
   "outputs": [],
   "source": [
    "def create_connection(db_name, db_user, db_password, db_host, db_port):\n",
    "    \"\"\"Функция для подключения к базе данных PostgreSQL\"\"\"\n",
    "    connection = None\n",
    "    try:\n",
    "        connection = psycopg2.connect(\n",
    "            database=db_name,\n",
    "            user=db_user,\n",
    "            password=db_password,\n",
    "            host=db_host,\n",
    "            port=db_port,\n",
    "        )\n",
    "        connection.autocommit = True \n",
    "        print(\"Подключение к БД успешно\")\n",
    "    except OperationalError as e:\n",
    "        print(f\"Ошибка подключения: {e}\")\n",
    "    return connection"
   ]
  },
  {
   "cell_type": "code",
   "execution_count": 3,
   "id": "4ffe3a24",
   "metadata": {},
   "outputs": [],
   "source": [
    "def create_query(query:str, connection, select=False):\n",
    "    \"\"\"Функция для отправки запроса к базе данных\"\"\"\n",
    "    try:\n",
    "        cursor = connection.cursor()\n",
    "        cursor.execute(query)\n",
    "        if select:\n",
    "            data = cursor.fetchall()\n",
    "            cursor.close()\n",
    "            return data\n",
    "            \n",
    "        cursor.close()\n",
    "    except OperationalError as e:\n",
    "        print(f\"Ошибка запроса: {e}\")   "
   ]
  },
  {
   "cell_type": "markdown",
   "id": "597446b4",
   "metadata": {},
   "source": [
    "### Создание базы данных и таблиц"
   ]
  },
  {
   "cell_type": "code",
   "execution_count": 4,
   "id": "f7c60ffd",
   "metadata": {},
   "outputs": [],
   "source": [
    "# Создание базы данных\n",
    "connection = psycopg2.connect(user=\"postgres\",\n",
    "                              password=\"111\",\n",
    "                              host=\"127.0.0.1\",\n",
    "                              port=\"5432\")\n",
    "\n",
    "connection.autocommit = True \n",
    "create_query(\"CREATE DATABASE info_vizion\", connection)    \n",
    "connection.close()    "
   ]
  },
  {
   "cell_type": "code",
   "execution_count": 5,
   "id": "2dad6ed5",
   "metadata": {},
   "outputs": [
    {
     "name": "stdout",
     "output_type": "stream",
     "text": [
      "Подключение к БД успешно\n"
     ]
    }
   ],
   "source": [
    "# Создание таблиц\n",
    "connection = create_connection(\"info_vizion\", \"postgres\", \"111\", \"127.0.0.1\", \"5432\")\n",
    "\n",
    "# Календаря\n",
    "query_calendar = \"\"\"CREATE TABLE calendar (\n",
    "                                            date_key DATE PRIMARY KEY\n",
    "                                           )\"\"\"\n",
    "create_query(query_calendar, connection)\n",
    "\n",
    "# Складов\n",
    "query_stocks = \"\"\"CREATE TABLE stocks (\n",
    "                                        id INTEGER PRIMARY KEY,\n",
    "                                        stock_name VARCHAR(15) NOT NULL\n",
    "                                       )\"\"\"\n",
    "create_query(query_stocks, connection)\n",
    "\n",
    "# Транзакций\n",
    "query_sales = \"\"\"CREATE TABLE sales (\n",
    "                                      id SERIAL PRIMARY KEY,\n",
    "                                      stock_sale INTEGER NOT NULL,\n",
    "                                      date_sale DATE NOT NULL,\n",
    "                                      sum_sale NUMERIC NOT NULL,\n",
    "                                      CONSTRAINT stock_sale FOREIGN KEY (stock_sale)\n",
    "                                          REFERENCES stocks (id) MATCH SIMPLE\n",
    "                                    )\"\"\"\n",
    "create_query(query_sales, connection)\n",
    "\n",
    "connection.close()    "
   ]
  },
  {
   "cell_type": "markdown",
   "id": "ca4f3111",
   "metadata": {},
   "source": [
    "### Заполнение таблиц"
   ]
  },
  {
   "cell_type": "markdown",
   "id": "a8cb06dd",
   "metadata": {},
   "source": [
    "**Календарь**"
   ]
  },
  {
   "cell_type": "code",
   "execution_count": 6,
   "id": "b9638c3e",
   "metadata": {},
   "outputs": [
    {
     "name": "stdout",
     "output_type": "stream",
     "text": [
      "Подключение к БД успешно\n"
     ]
    }
   ],
   "source": [
    "date_min = datetime.date(2012, 1, 1) \n",
    "date_max = datetime.date(2015, 12, 31)\n",
    "\n",
    "connection = create_connection(\"info_vizion\", \"postgres\", \"111\", \"127.0.0.1\", \"5432\")\n",
    "\n",
    "while date_min<=date_max:\n",
    "    query_date = f\"INSERT INTO calendar (date_key) VALUES ('{date_min.strftime('%d.%m.%Y')}')\"\n",
    "    create_query(query_date, connection)\n",
    "    date_min += datetime.timedelta(days=1) \n",
    "\n",
    "connection.close()"
   ]
  },
  {
   "cell_type": "code",
   "execution_count": 7,
   "id": "d3ade8ff",
   "metadata": {},
   "outputs": [
    {
     "data": {
      "text/html": [
       "<div>\n",
       "<style scoped>\n",
       "    .dataframe tbody tr th:only-of-type {\n",
       "        vertical-align: middle;\n",
       "    }\n",
       "\n",
       "    .dataframe tbody tr th {\n",
       "        vertical-align: top;\n",
       "    }\n",
       "\n",
       "    .dataframe thead th {\n",
       "        text-align: right;\n",
       "    }\n",
       "</style>\n",
       "<table border=\"1\" class=\"dataframe\">\n",
       "  <thead>\n",
       "    <tr style=\"text-align: right;\">\n",
       "      <th></th>\n",
       "      <th>Склад</th>\n",
       "      <th>ДатаКлюч</th>\n",
       "      <th>Продажи рублей</th>\n",
       "    </tr>\n",
       "  </thead>\n",
       "  <tbody>\n",
       "    <tr>\n",
       "      <th>0</th>\n",
       "      <td>Склад 1</td>\n",
       "      <td>08.01.2013</td>\n",
       "      <td>1776309.0</td>\n",
       "    </tr>\n",
       "    <tr>\n",
       "      <th>1</th>\n",
       "      <td>Склад 1</td>\n",
       "      <td>09.01.2013</td>\n",
       "      <td>1670458.8</td>\n",
       "    </tr>\n",
       "    <tr>\n",
       "      <th>2</th>\n",
       "      <td>Склад 1</td>\n",
       "      <td>13.01.2013</td>\n",
       "      <td>2065636.4</td>\n",
       "    </tr>\n",
       "  </tbody>\n",
       "</table>\n",
       "</div>"
      ],
      "text/plain": [
       "     Склад    ДатаКлюч  Продажи рублей\n",
       "0  Склад 1  08.01.2013       1776309.0\n",
       "1  Склад 1  09.01.2013       1670458.8\n",
       "2  Склад 1  13.01.2013       2065636.4"
      ]
     },
     "execution_count": 7,
     "metadata": {},
     "output_type": "execute_result"
    }
   ],
   "source": [
    "df = pd.read_csv('ИсходныеДанныеИПримерыОтчетов.csv', sep=';')\n",
    "df.head(3)"
   ]
  },
  {
   "cell_type": "markdown",
   "id": "cc2eb03b",
   "metadata": {},
   "source": [
    "**Склады**"
   ]
  },
  {
   "cell_type": "code",
   "execution_count": 8,
   "id": "91c8f675",
   "metadata": {},
   "outputs": [
    {
     "data": {
      "text/plain": [
       "[(1, 'Склад 1'),\n",
       " (143, 'Склад 143'),\n",
       " (206, 'Склад 206'),\n",
       " (227, 'Склад 227'),\n",
       " (23, 'Склад 23'),\n",
       " (51, 'Склад 51'),\n",
       " (66, 'Склад 66')]"
      ]
     },
     "execution_count": 8,
     "metadata": {},
     "output_type": "execute_result"
    }
   ],
   "source": [
    "stock_list = list(df['Склад'].unique())\n",
    "stocks = [(int(el.replace('Склад ', '')), el) for el in stock_list]\n",
    "stocks"
   ]
  },
  {
   "cell_type": "code",
   "execution_count": 9,
   "id": "20cfd57d",
   "metadata": {},
   "outputs": [
    {
     "name": "stdout",
     "output_type": "stream",
     "text": [
      "Подключение к БД успешно\n"
     ]
    }
   ],
   "source": [
    "connection = create_connection(\"info_vizion\", \"postgres\", \"111\", \"127.0.0.1\", \"5432\")\n",
    "\n",
    "for el in stocks:\n",
    "    query_stock = f\"INSERT INTO stocks (id, stock_name) VALUES {el}\"\n",
    "    create_query(query_stock, connection)\n",
    "      \n",
    "connection.close()"
   ]
  },
  {
   "cell_type": "markdown",
   "id": "38bb7a44",
   "metadata": {},
   "source": [
    "**Транзакции**"
   ]
  },
  {
   "cell_type": "code",
   "execution_count": 10,
   "id": "106bc430",
   "metadata": {},
   "outputs": [
    {
     "name": "stdout",
     "output_type": "stream",
     "text": [
      "Подключение к БД успешно\n"
     ]
    }
   ],
   "source": [
    "connection = create_connection(\"info_vizion\", \"postgres\", \"111\", \"127.0.0.1\", \"5432\")\n",
    "\n",
    "for i in range(df.shape[0]):\n",
    "    el_insert = (int(df['Склад'].iloc[i].replace('Склад ', '')), df['ДатаКлюч'].iloc[i], df['Продажи рублей'].iloc[i])\n",
    "    query_sale = f\"INSERT INTO sales (stock_sale, date_sale, sum_sale ) VALUES {el_insert}\"\n",
    "    create_query(query_sale, connection)\n",
    "      \n",
    "connection.close()"
   ]
  },
  {
   "cell_type": "markdown",
   "id": "4de5ad13",
   "metadata": {},
   "source": [
    "### Запросы на создание таблиц"
   ]
  },
  {
   "cell_type": "code",
   "execution_count": 11,
   "id": "715b1c65",
   "metadata": {},
   "outputs": [],
   "source": [
    "query_select_day = \"\"\"\n",
    "SELECT \n",
    "st.stock_name \"Склад\",  \n",
    "cln.date_key \"Дата\", \n",
    "sl.sum_sale/1000 \"Продажи, тыс.руб.\",\n",
    "\n",
    "sl_Y.date_sale \"Прошлый год\",\n",
    "sl_Y.sum_sale/1000 \"Продажи за аналогичный период предыдущего года, тыс.руб.\",\n",
    "\n",
    "sl_M.date_sale \"Прошлый месяц\",\n",
    "sl_M.sum_sale/1000 \"Продажи за аналогичный период предыдущего месяца, тыс. руб.\"\n",
    "\n",
    "\n",
    "FROM sales sl\n",
    "FULL JOIN sales sl_Y ON sl.date_sale = sl_Y.date_sale +  interval '1 year' AND sl_Y.stock_sale = sl.stock_sale\n",
    "FULL JOIN sales sl_M ON sl.date_sale = sl_M.date_sale +  interval '1 month' AND sl_M.stock_sale = sl.stock_sale\n",
    "LEFT JOIN stocks st ON st.id = sl.stock_sale OR st.id = sl_Y.stock_sale OR st.id = sl_M.stock_sale\n",
    "LEFT JOIN calendar cln ON cln.date_key = sl.date_sale \n",
    "                       OR cln.date_key=sl_Y.date_sale + interval '1 year' \n",
    "                       OR cln.date_key=sl_M.date_sale + interval '1 month'\n",
    "WHERE cln.date_key BETWEEN '2013-01-01' AND '2015-12-31'\n",
    "Order by st.id, cln.date_key\n",
    "\"\"\""
   ]
  },
  {
   "cell_type": "code",
   "execution_count": 12,
   "id": "eb4cd0c1",
   "metadata": {},
   "outputs": [
    {
     "name": "stdout",
     "output_type": "stream",
     "text": [
      "Подключение к БД успешно\n"
     ]
    }
   ],
   "source": [
    "connection = create_connection(\"info_vizion\", \"postgres\", \"111\", \"127.0.0.1\", \"5432\")\n",
    "\n",
    "data_day = create_query(query_select_day, connection, select=True)\n",
    "      \n",
    "connection.close()"
   ]
  },
  {
   "cell_type": "code",
   "execution_count": 14,
   "id": "4695bbf3",
   "metadata": {},
   "outputs": [
    {
     "data": {
      "text/html": [
       "<div>\n",
       "<style scoped>\n",
       "    .dataframe tbody tr th:only-of-type {\n",
       "        vertical-align: middle;\n",
       "    }\n",
       "\n",
       "    .dataframe tbody tr th {\n",
       "        vertical-align: top;\n",
       "    }\n",
       "\n",
       "    .dataframe thead th {\n",
       "        text-align: right;\n",
       "    }\n",
       "</style>\n",
       "<table border=\"1\" class=\"dataframe\">\n",
       "  <thead>\n",
       "    <tr style=\"text-align: right;\">\n",
       "      <th></th>\n",
       "      <th>Склад</th>\n",
       "      <th>Дата</th>\n",
       "      <th>Продажи, тыс.руб.</th>\n",
       "      <th>Прошлый год</th>\n",
       "      <th>Продажи за аналогичный период предыдущего года, тыс.руб.</th>\n",
       "      <th>Прошлый месяц</th>\n",
       "      <th>Продажи за аналогичный период предыдущего месяца, тыс. руб.</th>\n",
       "    </tr>\n",
       "  </thead>\n",
       "  <tbody>\n",
       "    <tr>\n",
       "      <th>751</th>\n",
       "      <td>Склад 23</td>\n",
       "      <td>2013-09-03</td>\n",
       "      <td>972.7664000000000000</td>\n",
       "      <td>None</td>\n",
       "      <td>None</td>\n",
       "      <td>None</td>\n",
       "      <td>None</td>\n",
       "    </tr>\n",
       "    <tr>\n",
       "      <th>3123</th>\n",
       "      <td>Склад 143</td>\n",
       "      <td>2015-10-04</td>\n",
       "      <td>None</td>\n",
       "      <td>None</td>\n",
       "      <td>None</td>\n",
       "      <td>2015-09-04</td>\n",
       "      <td>999.1910000000000000</td>\n",
       "    </tr>\n",
       "    <tr>\n",
       "      <th>2117</th>\n",
       "      <td>Склад 66</td>\n",
       "      <td>2014-02-27</td>\n",
       "      <td>None</td>\n",
       "      <td>None</td>\n",
       "      <td>None</td>\n",
       "      <td>2014-01-27</td>\n",
       "      <td>1161.7446000000000000</td>\n",
       "    </tr>\n",
       "  </tbody>\n",
       "</table>\n",
       "</div>"
      ],
      "text/plain": [
       "          Склад        Дата     Продажи, тыс.руб. Прошлый год  \\\n",
       "751    Склад 23  2013-09-03  972.7664000000000000        None   \n",
       "3123  Склад 143  2015-10-04                  None        None   \n",
       "2117   Склад 66  2014-02-27                  None        None   \n",
       "\n",
       "     Продажи за аналогичный период предыдущего года, тыс.руб. Прошлый месяц  \\\n",
       "751                                                None                None   \n",
       "3123                                               None          2015-09-04   \n",
       "2117                                               None          2014-01-27   \n",
       "\n",
       "     Продажи за аналогичный период предыдущего месяца, тыс. руб.  \n",
       "751                                                None           \n",
       "3123                               999.1910000000000000           \n",
       "2117                              1161.7446000000000000           "
      ]
     },
     "execution_count": 14,
     "metadata": {},
     "output_type": "execute_result"
    }
   ],
   "source": [
    "df_day = pd.DataFrame(data_day, columns=['Склад', \"Дата\", \"Продажи, тыс.руб.\", \"Прошлый год\", \n",
    "                            \"Продажи за аналогичный период предыдущего года, тыс.руб.\",\n",
    "                           \"Прошлый месяц\", \"Продажи за аналогичный период предыдущего месяца, тыс. руб.\"])\n",
    "df_day.sample(3)"
   ]
  },
  {
   "cell_type": "code",
   "execution_count": 15,
   "id": "46cb9425",
   "metadata": {},
   "outputs": [],
   "source": [
    "query_select_month = \"\"\"\n",
    "SELECT \n",
    "st.stock_name \"Склад\", \n",
    "\n",
    "CONCAT(\n",
    "EXTRACT(YEAR FROM cln.date_key), '.',\n",
    "EXTRACT(MONTH FROM cln.date_key) \n",
    ") \"Год-Месяц\",\n",
    "\n",
    "SUM(sl.sum_sale/1000) \"Продажи_тыс_руб\",\n",
    "SUM(sl_Y.sum_sale/1000) \"Продажи_за_аналогичный_период_пред_года_тыс_руб\",\n",
    "SUM(sl_M.sum_sale/1000) \"Продажи_за_аналогичный_период_пред_месяца_тыс_руб\"\n",
    "\n",
    "\n",
    "FROM sales sl\n",
    "FULL JOIN sales sl_Y ON sl.date_sale = sl_Y.date_sale +  interval '1 year' AND sl_Y.stock_sale = sl.stock_sale\n",
    "FULL JOIN sales sl_M ON sl.date_sale = sl_M.date_sale +  interval '1 month' AND sl_M.stock_sale = sl.stock_sale\n",
    "LEFT JOIN stocks st ON st.id = sl.stock_sale OR st.id = sl_Y.stock_sale OR st.id = sl_M.stock_sale\n",
    "LEFT JOIN calendar cln ON cln.date_key = sl.date_sale \n",
    "                       OR cln.date_key=sl_Y.date_sale + interval '1 year' \n",
    "                       OR cln.date_key=sl_M.date_sale + interval '1 month'\n",
    "WHERE cln.date_key BETWEEN '2013-01-01' AND '2015-12-31'\n",
    "GROUP BY st.stock_name, EXTRACT(YEAR FROM cln.date_key), EXTRACT(MONTH FROM cln.date_key)\n",
    "Order by st.stock_name, EXTRACT(YEAR FROM cln.date_key), EXTRACT(MONTH FROM cln.date_key)\n",
    "\n",
    "\"\"\""
   ]
  },
  {
   "cell_type": "code",
   "execution_count": 16,
   "id": "51a825e3",
   "metadata": {},
   "outputs": [
    {
     "name": "stdout",
     "output_type": "stream",
     "text": [
      "Подключение к БД успешно\n"
     ]
    }
   ],
   "source": [
    "connection = create_connection(\"info_vizion\", \"postgres\", \"111\", \"127.0.0.1\", \"5432\")\n",
    "\n",
    "data_mount = create_query(query_select_month, connection, select=True)\n",
    "      \n",
    "connection.close()"
   ]
  },
  {
   "cell_type": "code",
   "execution_count": 17,
   "id": "6fa9bc56",
   "metadata": {},
   "outputs": [
    {
     "data": {
      "text/html": [
       "<div>\n",
       "<style scoped>\n",
       "    .dataframe tbody tr th:only-of-type {\n",
       "        vertical-align: middle;\n",
       "    }\n",
       "\n",
       "    .dataframe tbody tr th {\n",
       "        vertical-align: top;\n",
       "    }\n",
       "\n",
       "    .dataframe thead th {\n",
       "        text-align: right;\n",
       "    }\n",
       "</style>\n",
       "<table border=\"1\" class=\"dataframe\">\n",
       "  <thead>\n",
       "    <tr style=\"text-align: right;\">\n",
       "      <th></th>\n",
       "      <th>Склад</th>\n",
       "      <th>Год-Месяц</th>\n",
       "      <th>Продажи_тыс_руб</th>\n",
       "      <th>Продажи_за_аналогичный_период_пред_года_тыс_руб</th>\n",
       "      <th>Продажи_за_аналогичный_период_пред_месяца_тыс_руб</th>\n",
       "    </tr>\n",
       "  </thead>\n",
       "  <tbody>\n",
       "    <tr>\n",
       "      <th>172</th>\n",
       "      <td>Склад 23</td>\n",
       "      <td>2015.5</td>\n",
       "      <td>14765.2301000000000000</td>\n",
       "      <td>12545.4093000000000000</td>\n",
       "      <td>8725.2173000000000000</td>\n",
       "    </tr>\n",
       "    <tr>\n",
       "      <th>11</th>\n",
       "      <td>Склад 1</td>\n",
       "      <td>2013.12</td>\n",
       "      <td>7575.7882000000000000</td>\n",
       "      <td>None</td>\n",
       "      <td>8813.7274999999980000</td>\n",
       "    </tr>\n",
       "    <tr>\n",
       "      <th>116</th>\n",
       "      <td>Склад 227</td>\n",
       "      <td>2013.9</td>\n",
       "      <td>4690.5801999999990000</td>\n",
       "      <td>None</td>\n",
       "      <td>5225.8761999999950000</td>\n",
       "    </tr>\n",
       "  </tbody>\n",
       "</table>\n",
       "</div>"
      ],
      "text/plain": [
       "         Склад Год-Месяц         Продажи_тыс_руб  \\\n",
       "172   Склад 23    2015.5  14765.2301000000000000   \n",
       "11     Склад 1   2013.12   7575.7882000000000000   \n",
       "116  Склад 227    2013.9   4690.5801999999990000   \n",
       "\n",
       "    Продажи_за_аналогичный_период_пред_года_тыс_руб  \\\n",
       "172                          12545.4093000000000000   \n",
       "11                                             None   \n",
       "116                                            None   \n",
       "\n",
       "    Продажи_за_аналогичный_период_пред_месяца_тыс_руб  \n",
       "172                             8725.2173000000000000  \n",
       "11                              8813.7274999999980000  \n",
       "116                             5225.8761999999950000  "
      ]
     },
     "execution_count": 17,
     "metadata": {},
     "output_type": "execute_result"
    }
   ],
   "source": [
    "df_month = pd.DataFrame(data_mount, columns=['Склад', \"Год-Месяц\", \"Продажи_тыс_руб\", \n",
    "                            \"Продажи_за_аналогичный_период_пред_года_тыс_руб\",\n",
    "                            \"Продажи_за_аналогичный_период_пред_месяца_тыс_руб\"])\n",
    "df_month.sample(3)"
   ]
  },
  {
   "cell_type": "code",
   "execution_count": 18,
   "id": "73f01675",
   "metadata": {},
   "outputs": [],
   "source": [
    "with pd.ExcelWriter('отчеты.xlsx') as writer:  \n",
    "    df_day.to_excel(writer, sheet_name='По дням', index=False)\n",
    "    df_month.to_excel(writer, sheet_name='По месяцам', index=False)\n"
   ]
  },
  {
   "cell_type": "markdown",
   "id": "fb2e421a",
   "metadata": {},
   "source": [
    "**Запрос по дням**\n",
    "![image info](./img/Запрос_по_дням.png)"
   ]
  },
  {
   "cell_type": "markdown",
   "id": "cd26d1d2",
   "metadata": {},
   "source": [
    "**Запрос по месяцам**\n",
    "![image info](./img/Запрос_по_месяцам.png)"
   ]
  },
  {
   "cell_type": "code",
   "execution_count": null,
   "id": "5c48b85e",
   "metadata": {},
   "outputs": [],
   "source": [
    "# # Удаление базы данных\n",
    "# connection = psycopg2.connect(user=\"postgres\",\n",
    "#                               password=\"111\",\n",
    "#                               host=\"127.0.0.1\",\n",
    "#                               port=\"5432\")\n",
    "# connection.autocommit = True  \n",
    "# create_query(\"DROP DATABASE info_vizion\", connection)    \n",
    "# connection.close()   "
   ]
  },
  {
   "cell_type": "code",
   "execution_count": null,
   "id": "3823ed8a",
   "metadata": {},
   "outputs": [],
   "source": []
  }
 ],
 "metadata": {
  "kernelspec": {
   "display_name": "Python 3 (ipykernel)",
   "language": "python",
   "name": "python3"
  },
  "language_info": {
   "codemirror_mode": {
    "name": "ipython",
    "version": 3
   },
   "file_extension": ".py",
   "mimetype": "text/x-python",
   "name": "python",
   "nbconvert_exporter": "python",
   "pygments_lexer": "ipython3",
   "version": "3.9.12"
  }
 },
 "nbformat": 4,
 "nbformat_minor": 5
}
